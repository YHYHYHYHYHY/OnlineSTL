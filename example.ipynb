{
 "cells": [
  {
   "cell_type": "code",
   "execution_count": null,
   "metadata": {},
   "outputs": [],
   "source": [
    "import numpy as np\n",
    "import matplotlib.pyplot as plt\n",
    "%run OnlineSTL.py"
   ]
  },
  {
   "cell_type": "code",
   "execution_count": null,
   "metadata": {},
   "outputs": [],
   "source": [
    "# Syn Series\n",
    "length = 600\n",
    "def gen_sinwaves(length=length, period=10):\n",
    "    x = np.arange(length)\n",
    "    y = np.sin(x * 2 * np.pi / period)\n",
    "    return y\n",
    "sin_10 = 3 * gen_sinwaves(period=10)\n",
    "sin_7 = 5 * gen_sinwaves(period=7)\n",
    "trend_1 = np.arange(length) * 0.1\n",
    "noise_1 = 0.4 * np.random.randn(length)"
   ]
  },
  {
   "cell_type": "code",
   "execution_count": null,
   "metadata": {},
   "outputs": [],
   "source": [
    "ts = sin_7 + sin_10 + trend_1 + noise_1\n",
    "plt.figure(figsize=(15,4))\n",
    "plt.plot(ts)\n",
    "init_len = 450\n",
    "online_test_len = length - init_len\n",
    "periods = [7, 10]\n",
    "model = OnlineSTL(ts[:init_len], periods=periods)"
   ]
  },
  {
   "cell_type": "code",
   "execution_count": null,
   "metadata": {},
   "outputs": [],
   "source": [
    "Trend = []\n",
    "Seasonal = np.zeros((online_test_len, len(periods)))\n",
    "Remainder = []\n",
    "for i in range(online_test_len):\n",
    "    x = ts[init_len + i]\n",
    "    T, S, R = model.update(x)\n",
    "    Trend.append(T)\n",
    "    Seasonal[i] = S\n",
    "    Remainder.append(R)\n",
    "Seasonal = Seasonal.transpose(1,0)\n",
    "    "
   ]
  },
  {
   "cell_type": "code",
   "execution_count": null,
   "metadata": {},
   "outputs": [],
   "source": [
    "plt.figure(figsize=(15,4))\n",
    "plt.plot(ts[-(online_test_len):], label='GroundTruth')\n",
    "plt.plot(Trend, label='Trend')\n",
    "plt.legend()\n",
    "\n",
    "plt.figure(figsize=(15,4))\n",
    "for i in range(len(Seasonal)):\n",
    "    plt.plot(Seasonal[i], label='Seasonal -- Period={}'.format(periods[i]))\n",
    "plt.legend()\n",
    "\n",
    "plt.figure(figsize=(15,4))\n",
    "plt.plot(Remainder, label='Remainder')\n",
    "plt.legend()"
   ]
  }
 ],
 "metadata": {
  "kernelspec": {
   "display_name": "Python 3",
   "language": "python",
   "name": "python3"
  },
  "language_info": {
   "codemirror_mode": {
    "name": "ipython",
    "version": 3
   },
   "file_extension": ".py",
   "mimetype": "text/x-python",
   "name": "python",
   "nbconvert_exporter": "python",
   "pygments_lexer": "ipython3",
   "version": "3.9.6"
  }
 },
 "nbformat": 4,
 "nbformat_minor": 2
}
